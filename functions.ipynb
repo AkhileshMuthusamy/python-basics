{
 "metadata": {
  "language_info": {
   "codemirror_mode": {
    "name": "ipython",
    "version": 3
   },
   "file_extension": ".py",
   "mimetype": "text/x-python",
   "name": "python",
   "nbconvert_exporter": "python",
   "pygments_lexer": "ipython3",
   "version": "3.8.5-final"
  },
  "orig_nbformat": 2,
  "kernelspec": {
   "name": "python_defaultSpec_1599495395638",
   "display_name": "Python 3.8.5 64-bit"
  }
 },
 "nbformat": 4,
 "nbformat_minor": 2,
 "cells": [
  {
   "cell_type": "code",
   "execution_count": 7,
   "metadata": {},
   "outputs": [],
   "source": [
    "def least_difference(a, b, c):\n",
    "    \"\"\"Return the smallest difference between any two numbers amoung a, b, c\n",
    "\n",
    "    >>> least_difference(1, 5, -5)\n",
    "    4\n",
    "\n",
    "    \"\"\"\n",
    "    diff1 = abs(a - b)\n",
    "    diff2 = abs(b - c)\n",
    "    diff3 = abs(a - c)\n",
    "    return min(diff1, diff2, diff3)"
   ]
  },
  {
   "cell_type": "code",
   "execution_count": 13,
   "metadata": {
    "tags": []
   },
   "outputs": [
    {
     "output_type": "stream",
     "name": "stdout",
     "text": "2 13 1\n"
    }
   ],
   "source": [
    "print(\n",
    "    least_difference(2, 5, 7),\n",
    "    least_difference(45, 32, 15),\n",
    "    least_difference(5, 6, 7)\n",
    ")"
   ]
  },
  {
   "cell_type": "code",
   "execution_count": 8,
   "metadata": {
    "tags": []
   },
   "outputs": [
    {
     "output_type": "stream",
     "name": "stdout",
     "text": "Help on function least_difference in module __main__:\n\nleast_difference(a, b, c)\n    Return the smallest difference between any two numbers amoung a, b, c\n    \n    >>> least_difference(1, 5, -5)\n    4\n\n"
    }
   ],
   "source": [
    "help(least_difference)"
   ]
  },
  {
   "cell_type": "code",
   "execution_count": 9,
   "metadata": {
    "tags": []
   },
   "outputs": [
    {
     "output_type": "stream",
     "name": "stdout",
     "text": "\nNone\n"
    }
   ],
   "source": [
    "# Example for functions with side effects\n",
    "mystery = print()\n",
    "print(mystery)"
   ]
  },
  {
   "cell_type": "code",
   "execution_count": 11,
   "metadata": {
    "tags": []
   },
   "outputs": [
    {
     "output_type": "stream",
     "name": "stdout",
     "text": "1 < 2 < 3\n"
    }
   ],
   "source": [
    "print(1, 2, 3, sep=' < ')"
   ]
  },
  {
   "cell_type": "code",
   "execution_count": 12,
   "metadata": {
    "tags": []
   },
   "outputs": [
    {
     "output_type": "stream",
     "name": "stdout",
     "text": "Welcome Akhilesh\nWelcome Visitor\n"
    }
   ],
   "source": [
    "# Function argument with default value\n",
    "def greet(who=\"Akhilesh\"):\n",
    "    print('Welcome', who)\n",
    "\n",
    "greet()\n",
    "greet('Visitor')"
   ]
  }
 ]
}