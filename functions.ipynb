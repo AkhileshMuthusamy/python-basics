{
 "metadata": {
  "language_info": {
   "codemirror_mode": {
    "name": "ipython",
    "version": 3
   },
   "file_extension": ".py",
   "mimetype": "text/x-python",
   "name": "python",
   "nbconvert_exporter": "python",
   "pygments_lexer": "ipython3",
   "version": "3.8.5-final"
  },
  "orig_nbformat": 2,
  "kernelspec": {
   "name": "python_defaultSpec_1599544924820",
   "display_name": "Python 3.8.5 64-bit"
  }
 },
 "nbformat": 4,
 "nbformat_minor": 2,
 "cells": [
  {
   "cell_type": "code",
   "execution_count": 7,
   "metadata": {},
   "outputs": [],
   "source": [
    "def least_difference(a, b, c):\n",
    "    \"\"\"Return the smallest difference between any two numbers amoung a, b, c\n",
    "\n",
    "    >>> least_difference(1, 5, -5)\n",
    "    4\n",
    "\n",
    "    \"\"\"\n",
    "    diff1 = abs(a - b)\n",
    "    diff2 = abs(b - c)\n",
    "    diff3 = abs(a - c)\n",
    "    return min(diff1, diff2, diff3)"
   ]
  },
  {
   "cell_type": "code",
   "execution_count": 13,
   "metadata": {
    "tags": []
   },
   "outputs": [
    {
     "output_type": "stream",
     "name": "stdout",
     "text": "2 13 1\n"
    }
   ],
   "source": [
    "print(\n",
    "    least_difference(2, 5, 7),\n",
    "    least_difference(45, 32, 15),\n",
    "    least_difference(5, 6, 7)\n",
    ")"
   ]
  },
  {
   "cell_type": "code",
   "execution_count": 8,
   "metadata": {
    "tags": []
   },
   "outputs": [
    {
     "output_type": "stream",
     "name": "stdout",
     "text": "Help on function least_difference in module __main__:\n\nleast_difference(a, b, c)\n    Return the smallest difference between any two numbers amoung a, b, c\n    \n    >>> least_difference(1, 5, -5)\n    4\n\n"
    }
   ],
   "source": [
    "help(least_difference)"
   ]
  },
  {
   "cell_type": "code",
   "execution_count": 9,
   "metadata": {
    "tags": []
   },
   "outputs": [
    {
     "output_type": "stream",
     "name": "stdout",
     "text": "\nNone\n"
    }
   ],
   "source": [
    "# Example for functions with side effects\n",
    "mystery = print()\n",
    "print(mystery)"
   ]
  },
  {
   "cell_type": "code",
   "execution_count": 11,
   "metadata": {
    "tags": []
   },
   "outputs": [
    {
     "output_type": "stream",
     "name": "stdout",
     "text": "1 < 2 < 3\n"
    }
   ],
   "source": [
    "print(1, 2, 3, sep=' < ')"
   ]
  },
  {
   "cell_type": "code",
   "execution_count": 12,
   "metadata": {
    "tags": []
   },
   "outputs": [
    {
     "output_type": "stream",
     "name": "stdout",
     "text": "Welcome Akhilesh\nWelcome Visitor\n"
    }
   ],
   "source": [
    "# Function argument with default value\n",
    "def greet(who=\"Akhilesh\"):\n",
    "    print('Welcome', who)\n",
    "\n",
    "greet()\n",
    "greet('Visitor')"
   ]
  },
  {
   "cell_type": "code",
   "execution_count": 5,
   "metadata": {
    "tags": []
   },
   "outputs": [
    {
     "output_type": "stream",
     "name": "stdout",
     "text": "10\n25\n"
    }
   ],
   "source": [
    "# Functions applied to functions (Higher order functions)\n",
    "\n",
    "def mul_by_five(x):\n",
    "    return x * 5\n",
    "\n",
    "def call(fn, arg):\n",
    "    \"\"\"Call function fn on argument arg\"\"\"\n",
    "    return fn(arg)\n",
    "\n",
    "def squared_call(fn, arg):\n",
    "    return fn(fn(arg))\n",
    "\n",
    "print(\n",
    "    call(mul_by_five, 2),\n",
    "    squared_call(mul_by_five, 1),\n",
    "    sep='\\n', # '\\n' is newline character\n",
    "    )"
   ]
  },
  {
   "cell_type": "code",
   "execution_count": 8,
   "metadata": {
    "tags": []
   },
   "outputs": [
    {
     "output_type": "stream",
     "name": "stdout",
     "text": "Which number is biggest?\n100\nWhich number is the biggest modulo 5?\n14\n"
    }
   ],
   "source": [
    "# Higher order function example\n",
    "\n",
    "def mod_5(x):\n",
    "    \"\"\"Return the remainder of x after dividing by 5\"\"\"\n",
    "    return x % 5\n",
    "\n",
    "print(\n",
    "    'Which number is biggest?',\n",
    "    max(100, 51, 14),\n",
    "    'Which number is the biggest modulo 5?',\n",
    "    max(100, 51, 14, key=mod_5),\n",
    "    sep='\\n'\n",
    ")"
   ]
  },
  {
   "cell_type": "code",
   "execution_count": 12,
   "metadata": {
    "tags": []
   },
   "outputs": [
    {
     "output_type": "stream",
     "name": "stdout",
     "text": "12.12\n789470.0\n789500.0\n"
    }
   ],
   "source": [
    "print(round(12.123456, 2))\n",
    "print(round(789465.56, -1)) # Rounds to nearest 10\n",
    "print(round(789465.56, -2)) # rounds to nearest 100"
   ]
  },
  {
   "cell_type": "code",
   "execution_count": null,
   "metadata": {},
   "outputs": [],
   "source": []
  }
 ]
}