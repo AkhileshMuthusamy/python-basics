{
 "metadata": {
  "language_info": {
   "codemirror_mode": {
    "name": "ipython",
    "version": 3
   },
   "file_extension": ".py",
   "mimetype": "text/x-python",
   "name": "python",
   "nbconvert_exporter": "python",
   "pygments_lexer": "ipython3",
   "version": "3.8.5-final"
  },
  "orig_nbformat": 2,
  "kernelspec": {
   "name": "python_defaultSpec_1599815648200",
   "display_name": "Python 3.8.5 64-bit"
  }
 },
 "nbformat": 4,
 "nbformat_minor": 2,
 "cells": [
  {
   "cell_type": "code",
   "execution_count": 18,
   "metadata": {
    "tags": []
   },
   "outputs": [
    {
     "output_type": "stream",
     "name": "stdout",
     "text": "['Mercury', 'Venus', 'Earth', 'Mars', 'Jupiter', 'Saturn', 'Uranus', 'Neptune']\nPlanet nearest to the sun is Mercury\nPlanet furthest from the sun is Neptune\n"
    }
   ],
   "source": [
    "# Lists\n",
    "primes = [2, 3, 5, 7]\n",
    "planets = ['Mercury', 'Venus', 'Earth', 'Mars', 'Jupiter', 'Saturn', 'Uranus', 'Neptune']\n",
    "print(planets)\n",
    "print('Planet nearest to the sun is', planets[0])\n",
    "print('Planet furthest from the sun is', planets[-1])"
   ]
  },
  {
   "cell_type": "code",
   "execution_count": 2,
   "metadata": {
    "tags": []
   },
   "outputs": [
    {
     "output_type": "stream",
     "name": "stdout",
     "text": "[['J', 'K', 'Q'], ['2', '2', '2'], ['6', 'A', 'K']]\n"
    }
   ],
   "source": [
    "# List of lists\n",
    "hands = [\n",
    "    ['J', 'K', 'Q'],\n",
    "    ['2', '2', '2'],\n",
    "    ['6', 'A', 'K'],\n",
    "]\n",
    "print(hands)"
   ]
  },
  {
   "cell_type": "code",
   "execution_count": 3,
   "metadata": {
    "tags": []
   },
   "outputs": [
    {
     "output_type": "stream",
     "name": "stdout",
     "text": "[5, 'Delicious food', Type help() for interactive help, or help(object) for help about object.]\n"
    }
   ],
   "source": [
    "# List with mix of different types of variables\n",
    "my_favourite_things = [5, 'Delicious food', help]\n",
    "print(my_favourite_things)"
   ]
  },
  {
   "cell_type": "code",
   "execution_count": 12,
   "metadata": {
    "tags": []
   },
   "outputs": [
    {
     "output_type": "stream",
     "name": "stdout",
     "text": "First three planets are ['Mercury', 'Venus', 'Earth']\nFirst three planets are ['Mercury', 'Venus', 'Earth']\nRemaining planets ['Mars', 'Jupiter', 'Saturn', 'Uranus', 'Neptune', 'Pluto']\n"
    }
   ],
   "source": [
    "# Slicing\n",
    "\n",
    "print('First three planets are', planets[0:3])\n",
    "# Rewritten as\n",
    "print('First three planets are', planets[:3])\n",
    "\n",
    "# Exclude first three\n",
    "\n",
    "print('Remaining planets', planets[3:])"
   ]
  },
  {
   "cell_type": "code",
   "execution_count": 13,
   "metadata": {
    "tags": []
   },
   "outputs": [
    {
     "output_type": "stream",
     "name": "stdout",
     "text": "['Venus', 'Earth', 'Mars', 'Jupiter', 'Saturn', 'Uranus', 'Neptune']\n"
    }
   ],
   "source": [
    "# All the planets except first and last\n",
    "print(planets[1:-1])"
   ]
  },
  {
   "cell_type": "code",
   "execution_count": 15,
   "metadata": {
    "tags": []
   },
   "outputs": [
    {
     "output_type": "stream",
     "name": "stdout",
     "text": "['Uranus', 'Neptune', 'Pluto']\n"
    }
   ],
   "source": [
    "# Last three planets\n",
    "print(planets[-3:])"
   ]
  },
  {
   "cell_type": "code",
   "execution_count": 10,
   "metadata": {
    "tags": []
   },
   "outputs": [
    {
     "output_type": "stream",
     "name": "stdout",
     "text": "['புதன்', 'வெள்ளி', 'பூமி', 'செவ்வாய்', 'Jupiter', 'Saturn', 'Uranus', 'Neptune']\n"
    }
   ],
   "source": [
    "# Changing values in list by index\n",
    "planets[3] = \"செவ்வாய்\"\n",
    "print(planets)"
   ]
  },
  {
   "cell_type": "code",
   "execution_count": 11,
   "metadata": {
    "tags": []
   },
   "outputs": [
    {
     "output_type": "stream",
     "name": "stdout",
     "text": "['புதன்', 'வெள்ளி', 'பூமி', 'செவ்வாய்', 'Jupiter', 'Saturn', 'Uranus', 'Neptune']\n"
    }
   ],
   "source": [
    "planets[:3] = ['புதன்', 'வெள்ளி', 'பூமி']\n",
    "print(planets)"
   ]
  },
  {
   "cell_type": "code",
   "execution_count": 12,
   "metadata": {
    "tags": []
   },
   "outputs": [
    {
     "output_type": "stream",
     "name": "stdout",
     "text": "8\n"
    }
   ],
   "source": [
    "#\n",
    "# List functions\n",
    "#\n",
    "\n",
    "# Lenght of the list\n",
    "print(len(planets))"
   ]
  },
  {
   "cell_type": "code",
   "execution_count": 17,
   "metadata": {
    "tags": []
   },
   "outputs": [
    {
     "output_type": "stream",
     "name": "stdout",
     "text": "Sorted: ['Jupiter', 'Neptune', 'Saturn', 'Uranus', 'செவ்வாய்', 'புதன்', 'பூமி', 'வெள்ளி']\nUnsorted: ['புதன்', 'வெள்ளி', 'பூமி', 'செவ்வாய்', 'Jupiter', 'Saturn', 'Uranus', 'Neptune']\n"
    }
   ],
   "source": [
    "# Sort list\n",
    "print('Sorted:', sorted(planets))\n",
    "print('Unsorted:', planets)"
   ]
  },
  {
   "cell_type": "code",
   "execution_count": 19,
   "metadata": {
    "tags": []
   },
   "outputs": [
    {
     "output_type": "stream",
     "name": "stdout",
     "text": "28\n"
    }
   ],
   "source": [
    "# Sum values\n",
    "prime_nos = [2, 3, 5, 7, 11]\n",
    "print(sum(prime_nos))"
   ]
  },
  {
   "cell_type": "code",
   "execution_count": 20,
   "metadata": {
    "tags": []
   },
   "outputs": [
    {
     "output_type": "stream",
     "name": "stdout",
     "text": "11\n2\n"
    }
   ],
   "source": [
    "# max / min\n",
    "print(max(prime_nos))\n",
    "print(min(prime_nos))"
   ]
  },
  {
   "cell_type": "code",
   "execution_count": 21,
   "metadata": {
    "tags": []
   },
   "outputs": [
    {
     "output_type": "stream",
     "name": "stdout",
     "text": "0\n3.0\n"
    }
   ],
   "source": [
    "# Interlude: objects\n",
    "#\n",
    "# Objects carry some things around with them. You access that stuff using Python's dot syntax\n",
    "#\n",
    "# For example, numbers in Python carry around an associated variable called imag representing their imaginary part.\n",
    "x = 12\n",
    "# x is real number, so its imaginary part is 0\n",
    "print(x.imag)\n",
    "# Complex number\n",
    "c = 12 + 3j\n",
    "print(c.imag)"
   ]
  },
  {
   "cell_type": "code",
   "execution_count": 28,
   "metadata": {
    "tags": []
   },
   "outputs": [
    {
     "output_type": "stream",
     "name": "stdout",
     "text": "<class 'builtin_function_or_method'>\n4\nHelp on built-in function bit_length:\n\nbit_length() method of builtins.int instance\n    Number of bits necessary to represent self in binary.\n    \n    >>> bin(37)\n    '0b100101'\n    >>> (37).bit_length()\n    6\n\n"
    }
   ],
   "source": [
    "# The things an object carries around can also include functions. A function attached to an object is called a method.\n",
    "# (Non-function things attached to an object, such as imag, are called attributes).\n",
    "\n",
    "print(type(x.bit_length))\n",
    "print(x.bit_length())\n",
    "help(x.bit_length)"
   ]
  },
  {
   "cell_type": "code",
   "execution_count": 30,
   "metadata": {
    "tags": []
   },
   "outputs": [
    {
     "output_type": "stream",
     "name": "stdout",
     "text": "['Mercury', 'Venus', 'Earth', 'Mars', 'Jupiter', 'Saturn', 'Uranus', 'Neptune', 'Pluto', 'Pluto']\nHelp on built-in function append:\n\nappend(object, /) method of builtins.list instance\n    Append object to the end of the list.\n\n"
    }
   ],
   "source": [
    "#\n",
    "# List methods\n",
    "#\n",
    "\n",
    "# Add item to list\n",
    "planets.append('Pluto')\n",
    "print(planets)\n",
    "help(planets.append)"
   ]
  },
  {
   "cell_type": "code",
   "execution_count": 33,
   "metadata": {
    "tags": []
   },
   "outputs": [
    {
     "output_type": "stream",
     "name": "stdout",
     "text": "['Mercury', 'Venus', 'Earth', 'Mars', 'Jupiter', 'Saturn', 'Uranus']\n"
    }
   ],
   "source": [
    "# Remove last element from list\n",
    "planets.pop()\n",
    "print(planets)"
   ]
  },
  {
   "cell_type": "code",
   "execution_count": 38,
   "metadata": {
    "tags": []
   },
   "outputs": [
    {
     "output_type": "stream",
     "name": "stdout",
     "text": "Index of planet Earth: 2\nTrue\nFalse\n"
    }
   ],
   "source": [
    "# Searching lists\n",
    "print('Index of planet Earth:', planets.index('Earth'))\n",
    "\n",
    "# Note: If element not in list, then python will throw error\n",
    "# Alternate approach\n",
    "\n",
    "print(\"Earth\" in planets)\n",
    "print(\"Calbefraques\" in planets)"
   ]
  },
  {
   "cell_type": "code",
   "execution_count": 39,
   "metadata": {
    "tags": []
   },
   "outputs": [
    {
     "output_type": "stream",
     "name": "stdout",
     "text": "Help on list object:\n\nclass list(object)\n |  list(iterable=(), /)\n |  \n |  Built-in mutable sequence.\n |  \n |  If no argument is given, the constructor creates a new empty list.\n |  The argument must be an iterable if specified.\n |  \n |  Methods defined here:\n |  \n |  __add__(self, value, /)\n |      Return self+value.\n |  \n |  __contains__(self, key, /)\n |      Return key in self.\n |  \n |  __delitem__(self, key, /)\n |      Delete self[key].\n |  \n |  __eq__(self, value, /)\n |      Return self==value.\n |  \n |  __ge__(self, value, /)\n |      Return self>=value.\n |  \n |  __getattribute__(self, name, /)\n |      Return getattr(self, name).\n |  \n |  __getitem__(...)\n |      x.__getitem__(y) <==> x[y]\n |  \n |  __gt__(self, value, /)\n |      Return self>value.\n |  \n |  __iadd__(self, value, /)\n |      Implement self+=value.\n |  \n |  __imul__(self, value, /)\n |      Implement self*=value.\n |  \n |  __init__(self, /, *args, **kwargs)\n |      Initialize self.  See help(type(self)) for accurate signature.\n |  \n |  __iter__(self, /)\n |      Implement iter(self).\n |  \n |  __le__(self, value, /)\n |      Return self<=value.\n |  \n |  __len__(self, /)\n |      Return len(self).\n |  \n |  __lt__(self, value, /)\n |      Return self<value.\n |  \n |  __mul__(self, value, /)\n |      Return self*value.\n |  \n |  __ne__(self, value, /)\n |      Return self!=value.\n |  \n |  __repr__(self, /)\n |      Return repr(self).\n |  \n |  __reversed__(self, /)\n |      Return a reverse iterator over the list.\n |  \n |  __rmul__(self, value, /)\n |      Return value*self.\n |  \n |  __setitem__(self, key, value, /)\n |      Set self[key] to value.\n |  \n |  __sizeof__(self, /)\n |      Return the size of the list in memory, in bytes.\n |  \n |  append(self, object, /)\n |      Append object to the end of the list.\n |  \n |  clear(self, /)\n |      Remove all items from list.\n |  \n |  copy(self, /)\n |      Return a shallow copy of the list.\n |  \n |  count(self, value, /)\n |      Return number of occurrences of value.\n |  \n |  extend(self, iterable, /)\n |      Extend list by appending elements from the iterable.\n |  \n |  index(self, value, start=0, stop=9223372036854775807, /)\n |      Return first index of value.\n |      \n |      Raises ValueError if the value is not present.\n |  \n |  insert(self, index, object, /)\n |      Insert object before index.\n |  \n |  pop(self, index=-1, /)\n |      Remove and return item at index (default last).\n |      \n |      Raises IndexError if list is empty or index is out of range.\n |  \n |  remove(self, value, /)\n |      Remove first occurrence of value.\n |      \n |      Raises ValueError if the value is not present.\n |  \n |  reverse(self, /)\n |      Reverse *IN PLACE*.\n |  \n |  sort(self, /, *, key=None, reverse=False)\n |      Sort the list in ascending order and return None.\n |      \n |      The sort is in-place (i.e. the list itself is modified) and stable (i.e. the\n |      order of two equal elements is maintained).\n |      \n |      If a key function is given, apply it once to each list item and sort them,\n |      ascending or descending, according to their function values.\n |      \n |      The reverse flag can be set to sort in descending order.\n |  \n |  ----------------------------------------------------------------------\n |  Static methods defined here:\n |  \n |  __new__(*args, **kwargs) from builtins.type\n |      Create and return a new object.  See help(type) for accurate signature.\n |  \n |  ----------------------------------------------------------------------\n |  Data and other attributes defined here:\n |  \n |  __hash__ = None\n\n"
    }
   ],
   "source": [
    "help(planets)"
   ]
  },
  {
   "cell_type": "code",
   "execution_count": 42,
   "metadata": {
    "tags": []
   },
   "outputs": [
    {
     "output_type": "stream",
     "name": "stdout",
     "text": "(1, 2, 3)\n(1, 2, 3)\n2\n"
    }
   ],
   "source": [
    "## Tuples\n",
    "# Note: Tuples are immutable, hence t[0] = 10 won't work\n",
    "t = (1, 2, 3)\n",
    "t1 = 1, 2, 3 # equivalent to above\n",
    "print(t)\n",
    "print(t1)\n",
    "print(t[1])"
   ]
  },
  {
   "cell_type": "code",
   "execution_count": 44,
   "metadata": {
    "tags": []
   },
   "outputs": [
    {
     "output_type": "stream",
     "name": "stdout",
     "text": "0.125\n"
    }
   ],
   "source": [
    "x1 = 0.125\n",
    "x1.as_integer_ratio() # returns numerator and denominator in the form of tuple\n",
    "\n",
    "# Accessing tuple value from function\n",
    "numerator, denominator = x1.as_integer_ratio()\n",
    "print(numerator / denominator)"
   ]
  },
  {
   "cell_type": "code",
   "execution_count": 45,
   "metadata": {
    "tags": []
   },
   "outputs": [
    {
     "output_type": "stream",
     "name": "stdout",
     "text": "0 1\n"
    }
   ],
   "source": [
    "# Swapping numbers\n",
    "\n",
    "a = 1\n",
    "b = 0\n",
    "a, b = b , a\n",
    "print(a, b)"
   ]
  },
  {
   "cell_type": "code",
   "execution_count": null,
   "metadata": {},
   "outputs": [],
   "source": []
  }
 ]
}