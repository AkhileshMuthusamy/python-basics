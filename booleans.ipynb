{
 "metadata": {
  "language_info": {
   "codemirror_mode": {
    "name": "ipython",
    "version": 3
   },
   "file_extension": ".py",
   "mimetype": "text/x-python",
   "name": "python",
   "nbconvert_exporter": "python",
   "pygments_lexer": "ipython3",
   "version": "3.8.5-final"
  },
  "orig_nbformat": 2,
  "kernelspec": {
   "name": "python_defaultSpec_1599560171516",
   "display_name": "Python 3.8.5 64-bit"
  }
 },
 "nbformat": 4,
 "nbformat_minor": 2,
 "cells": [
  {
   "cell_type": "code",
   "execution_count": 1,
   "metadata": {
    "tags": []
   },
   "outputs": [
    {
     "output_type": "stream",
     "name": "stdout",
     "text": "True\n<class 'bool'>\n"
    }
   ],
   "source": [
    "x = True\n",
    "print(x)\n",
    "print(type(x))"
   ]
  },
  {
   "cell_type": "code",
   "execution_count": 2,
   "metadata": {
    "tags": []
   },
   "outputs": [
    {
     "output_type": "stream",
     "name": "stdout",
     "text": "Can a 19-year-old run for president? False\nCan a 45-year-old run for president? True\n"
    }
   ],
   "source": [
    "def can_run_for_president(age):\n",
    "    return age >= 35\n",
    "\n",
    "print(\"Can a 19-year-old run for president?\", can_run_for_president(19))\n",
    "print(\"Can a 45-year-old run for president?\", can_run_for_president(45))"
   ]
  },
  {
   "cell_type": "code",
   "execution_count": 3,
   "metadata": {},
   "outputs": [
    {
     "output_type": "execute_result",
     "data": {
      "text/plain": "True"
     },
     "metadata": {},
     "execution_count": 3
    }
   ],
   "source": [
    "3.0 == 3"
   ]
  },
  {
   "cell_type": "code",
   "execution_count": 4,
   "metadata": {},
   "outputs": [
    {
     "output_type": "execute_result",
     "data": {
      "text/plain": "False"
     },
     "metadata": {},
     "execution_count": 4
    }
   ],
   "source": [
    "'3' == 3"
   ]
  },
  {
   "cell_type": "code",
   "execution_count": 6,
   "metadata": {
    "tags": []
   },
   "outputs": [
    {
     "output_type": "stream",
     "name": "stdout",
     "text": "Is 100 odd? False\nIs -1 odd? True\n"
    }
   ],
   "source": [
    "def is_odd(n):\n",
    "    return (n % 2) == 1\n",
    "\n",
    "print(\"Is 100 odd?\", is_odd(100))\n",
    "print(\"Is -1 odd?\", is_odd(-1))"
   ]
  },
  {
   "cell_type": "code",
   "execution_count": 7,
   "metadata": {
    "tags": []
   },
   "outputs": [
    {
     "output_type": "stream",
     "name": "stdout",
     "text": "False\nFalse\nTrue\n"
    }
   ],
   "source": [
    "# Combining Boolean Values using 'and', 'or, 'not'\n",
    "\n",
    "def can_vote_for_election(age, is_natural_born_citizen):\n",
    "    return is_natural_born_citizen and (age >= 35)\n",
    "\n",
    "print(can_vote_for_election(19, True))\n",
    "print(can_vote_for_election(55, False))\n",
    "print(can_vote_for_election(55, True))\n",
    "\n"
   ]
  },
  {
   "cell_type": "code",
   "execution_count": 1,
   "metadata": {},
   "outputs": [
    {
     "output_type": "execute_result",
     "data": {
      "text/plain": "True"
     },
     "metadata": {},
     "execution_count": 1
    }
   ],
   "source": [
    "# 'and' is evaluated before 'or'\n",
    "\n",
    "True or True and False"
   ]
  },
  {
   "cell_type": "code",
   "execution_count": 6,
   "metadata": {
    "tags": []
   },
   "outputs": [
    {
     "output_type": "stream",
     "name": "stdout",
     "text": "I'm prepared for rain: True\nI'm prepared for rain: True\nI'm prepared for rain: False\nI'm prepared for rain: True\n"
    }
   ],
   "source": [
    "# Example\n",
    "# I'm safe from today's weather....\n",
    "\n",
    "# 1. if I have an umbrella...\n",
    "# 2. or if the rain isn't too heavy and I have a hood...\n",
    "# 3. otherwise, I'm still fine unless it's raining and it's a workday\n",
    "\n",
    "def prepared_for_weather(have_umbrella, rain_level, have_hood, is_workday=False):\n",
    "    return have_umbrella or ((rain_level < 5) and have_hood) or (not ((rain_level > 0) and is_workday))\n",
    "\n",
    "print(\"I'm prepared for rain:\", prepared_for_weather(False, 4, True))\n",
    "print(\"I'm prepared for rain:\", prepared_for_weather(False, 4, False))\n",
    "print(\"I'm prepared for rain:\", prepared_for_weather(False, 4, False, True))\n",
    "print(\"I'm prepared for rain:\", prepared_for_weather(False, 0, False, True))"
   ]
  },
  {
   "cell_type": "code",
   "execution_count": null,
   "metadata": {},
   "outputs": [],
   "source": []
  }
 ]
}